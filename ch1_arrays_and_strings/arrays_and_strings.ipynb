{
 "cells": [
  {
   "cell_type": "markdown",
   "metadata": {},
   "source": [
    "# Ch 1 Arrays and Strings"
   ]
  },
  {
   "cell_type": "markdown",
   "metadata": {},
   "source": [
    "## Hash Tables\n",
    "* A hash table is a data structure that maps keys to vlaues for highly efficient lookup. "
   ]
  },
  {
   "cell_type": "markdown",
   "metadata": {},
   "source": [
    "## ArrayList and Resizable Arrays\n",
    "* Depeding on programming language, arrays are not always automatically resizable"
   ]
  },
  {
   "cell_type": "markdown",
   "metadata": {},
   "source": [
    "## StringBuilder\n",
    "* "
   ]
  },
  {
   "cell_type": "markdown",
   "metadata": {},
   "source": [
    "# Interview Questions\n"
   ]
  },
  {
   "cell_type": "markdown",
   "metadata": {},
   "source": [
    "## 1.1 Is Unique?\n",
    "* Implement an algorithm to determine if a string has all unique characters. What if you cannot use additional data structures?\n",
    "    * Original thought was to create a dictionary where every character in the string is a key and increment the value of that key by 1. If any value of a key is greater than 1 return False, else return True.\n",
    "    * Based on the follow-up question this won't work. I can think of doing a nested for loop but that would cause O(n^2) complexity."
   ]
  },
  {
   "cell_type": "code",
   "execution_count": 9,
   "metadata": {},
   "outputs": [
    {
     "name": "stdout",
     "output_type": "stream",
     "text": [
      "{'a': 1, 's': 1, 'd': 1, 'f': 1, 'j': 1, 'k': 1, 'l': 1, ';': 1}\n"
     ]
    },
    {
     "data": {
      "text/plain": [
       "True"
      ]
     },
     "execution_count": 9,
     "metadata": {},
     "output_type": "execute_result"
    }
   ],
   "source": [
    "def is_unique(string):\n",
    "    string_dict = {}\n",
    "    for item in string:\n",
    "        if item not in string_dict:\n",
    "            string_dict[item] = 1\n",
    "        else:\n",
    "            string_dict[item] += 1\n",
    "\n",
    "    print(string_dict)\n",
    "\n",
    "    for item in string_dict:\n",
    "        if string_dict[item] > 1:\n",
    "            return False\n",
    "    \n",
    "    return True\n",
    "\n",
    "is_unique('asdfjkl;')\n",
    "# is_unique('123123')"
   ]
  },
  {
   "cell_type": "markdown",
   "metadata": {},
   "source": [
    "## 1.2 Check Permutation\n",
    "* Given two strings, write a method to decide if one is a permuation of the other"
   ]
  },
  {
   "cell_type": "code",
   "execution_count": 12,
   "metadata": {},
   "outputs": [
    {
     "data": {
      "text/plain": [
       "False"
      ]
     },
     "execution_count": 12,
     "metadata": {},
     "output_type": "execute_result"
    }
   ],
   "source": [
    "def check_permutation(str1, str2):\n",
    "    sorted_str1_list = sorted(str1)\n",
    "    sorted_str2_list = sorted(str2)\n",
    "    \n",
    "    if sorted_str1_list == sorted_str2_list:\n",
    "        return True\n",
    "    return False\n",
    "\n",
    "check_permutation('fdas;', 'asdfjkl;')"
   ]
  }
 ],
 "metadata": {
  "kernelspec": {
   "display_name": "venv",
   "language": "python",
   "name": "python3"
  },
  "language_info": {
   "codemirror_mode": {
    "name": "ipython",
    "version": 3
   },
   "file_extension": ".py",
   "mimetype": "text/x-python",
   "name": "python",
   "nbconvert_exporter": "python",
   "pygments_lexer": "ipython3",
   "version": "3.11.0"
  },
  "orig_nbformat": 4
 },
 "nbformat": 4,
 "nbformat_minor": 2
}
